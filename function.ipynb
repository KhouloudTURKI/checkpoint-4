{
 "cells": [
  {
   "cell_type": "code",
   "execution_count": 2,
   "id": "226c1439",
   "metadata": {},
   "outputs": [
    {
     "name": "stdout",
     "output_type": "stream",
     "text": [
      "maxm:  35\n"
     ]
    }
   ],
   "source": [
    "def maximum(a, b, c):\n",
    "    if (a >= b) and (a >= c):\n",
    "        maxm = a\n",
    "\n",
    "    elif (b >= a) and (b >= c):\n",
    "        maxm = b\n",
    "    else:\n",
    "        maxm = c\n",
    "\n",
    "    return maxm\n",
    "\n",
    "\n",
    "res = maximum(20, 35, 19)\n",
    "print(\"maxm: \", res)"
   ]
  },
  {
   "cell_type": "code",
   "execution_count": 1,
   "id": "ecc95623",
   "metadata": {},
   "outputs": [
    {
     "name": "stdout",
     "output_type": "stream",
     "text": [
      "40\n",
      "10\n",
      "(50, 30)\n"
     ]
    }
   ],
   "source": [
    "def calculation(a, b):\n",
    "    return a+b, a-b\n",
    "a= int(input())\n",
    "b= int(input())\n",
    "res = calculation(a,b)\n",
    "print(res)"
   ]
  },
  {
   "cell_type": "code",
   "execution_count": null,
   "id": "7fcf27a9",
   "metadata": {},
   "outputs": [],
   "source": [
    "import math\n",
    "\n",
    "numbers = input(\"Provide D: \")\n",
    "numbers = numbers.split(',')\n",
    "\n",
    "result_list = []\n",
    "for D in numbers:\n",
    "    Q = round(math.sqrt(2 * 50 * int(D) / 30))\n",
    "    result_list.append(Q)\n",
    "\n",
    "print(result_list)"
   ]
  },
  {
   "cell_type": "code",
   "execution_count": 3,
   "id": "728321d0",
   "metadata": {},
   "outputs": [
    {
     "name": "stdout",
     "output_type": "stream",
     "text": [
      "Sum of all elements in given list:  74\n"
     ]
    }
   ],
   "source": [
    "a = [11, 5, 17, 18, 23]\n",
    "def sum(list1):\n",
    "    total = 0\n",
    "    for ele in range(0, len(list1)):\n",
    "        total = total + list1[ele]\n",
    "    print(\"Sum of all elements in given list: \", total)\n",
    "sum(a)"
   ]
  },
  {
   "cell_type": "code",
   "execution_count": 9,
   "id": "013f1a0e",
   "metadata": {},
   "outputs": [
    {
     "name": "stdout",
     "output_type": "stream",
     "text": [
      "Sum of all elements in given list:  387090\n"
     ]
    }
   ],
   "source": [
    "b = [11, 5, 17, 18, 23]\n",
    "def m(list1):\n",
    "    total = 1\n",
    "    for ele in range(0, len(list1)):\n",
    "        total = total * list1[ele]\n",
    "    print(\"Sum of all elements in given list: \", total)\n",
    "m(b)"
   ]
  },
  {
   "cell_type": "code",
   "execution_count": 10,
   "id": "37f9e521",
   "metadata": {},
   "outputs": [
    {
     "name": "stdout",
     "output_type": "stream",
     "text": [
      "[2, 6, 28]\n",
      "[5, 11]\n",
      "Sum of all elements in given list:  36\n",
      "Sum of all elements in given list:  55\n"
     ]
    }
   ],
   "source": [
    "c = [2,5,6,11,28]\n",
    "l1= []\n",
    "l2= []\n",
    "for i in range(0, len(c)):\n",
    "    if i%2==0 :\n",
    "        l1.append(c[i])\n",
    "    else:\n",
    "        l2.append(c[i])\n",
    "print(l1)\n",
    "print(l2)\n",
    "sum(l1)\n",
    "m(l2)"
   ]
  },
  {
   "cell_type": "code",
   "execution_count": null,
   "id": "9057e035",
   "metadata": {},
   "outputs": [],
   "source": []
  }
 ],
 "metadata": {
  "kernelspec": {
   "display_name": "Python 3 (ipykernel)",
   "language": "python",
   "name": "python3"
  },
  "language_info": {
   "codemirror_mode": {
    "name": "ipython",
    "version": 3
   },
   "file_extension": ".py",
   "mimetype": "text/x-python",
   "name": "python",
   "nbconvert_exporter": "python",
   "pygments_lexer": "ipython3",
   "version": "3.9.7"
  }
 },
 "nbformat": 4,
 "nbformat_minor": 5
}
